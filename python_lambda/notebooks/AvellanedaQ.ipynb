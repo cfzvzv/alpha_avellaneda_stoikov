{
 "cells": [
  {
   "cell_type": "code",
   "execution_count": 1,
   "metadata": {
    "pycharm": {
     "is_executing": false,
     "name": "#%%\n"
    }
   },
   "outputs": [],
   "source": [
    "from notebooks.lambda_imports import *\n",
    "%matplotlib inline\n",
    "plot_with_dark_style()\n",
    "\n",
    "plt.rcParams['figure.figsize'] = [12, 8]\n",
    "plt.rcParams['figure.dpi'] = 100 # 200 e.g. is really fine, but slower"
   ]
  },
  {
   "cell_type": "code",
   "execution_count": 2,
   "metadata": {
    "pycharm": {
     "name": "#%%\n"
    }
   },
   "outputs": [
    {
     "name": "stdout",
     "output_type": "stream",
     "text": [
      "notebook session file found AvellanedaQNotebook\n"
     ]
    }
   ],
   "source": [
    "session_name='AvellanedaQNotebook'\n",
    "load_notebook_session(session_name)"
   ]
  },
  {
   "cell_type": "markdown",
   "metadata": {},
   "source": [
    "# Properties"
   ]
  },
  {
   "cell_type": "markdown",
   "metadata": {},
   "source": [
    "## Algorithm"
   ]
  },
  {
   "cell_type": "code",
   "execution_count": 3,
   "metadata": {
    "pycharm": {
     "name": "#%%\n"
    }
   },
   "outputs": [],
   "source": [
    "parameters_default = {\n",
    "    # Q\n",
    "    \"skewPricePctAction\": [0.0],\n",
    "    \"riskAversionAction\": [0.9, 0.5],\n",
    "    \"windowsTickAction\": [10,15],\n",
    "    \"minPrivateState\": (-0.001),\n",
    "    \"maxPrivateState\": (0.001),\n",
    "    \"numberDecimalsPrivateState\": (4),\n",
    "    \"horizonTicksPrivateState\": (1),\n",
    "    \"horizonMinMsTick\": (10),\n",
    "    \"scoreEnum\": ScoreEnum.total_pnl,\n",
    "    \"timeHorizonSeconds\": (5),\n",
    "    \"epsilon\": (0.2),\n",
    "    # Avellaneda default\n",
    "    \"risk_aversion\": (0.9),\n",
    "    \"position_multiplier\": (100),\n",
    "    \"window_tick\": (10),\n",
    "    \"minutes_change_k\": (10),\n",
    "    \"quantity\": (0.0001),\n",
    "    \"k_default\": (0.00769),\n",
    "    \"spread_multiplier\": (5.0),\n",
    "    \"first_hour\": (7),\n",
    "    \"last_hour\": (19),\n",
    "}\n",
    "#for optimization\n",
    "parameters_min={\n",
    "    \"risk_aversion\": (0.1),\n",
    "    \"k_default\": (0.001),\n",
    "    \"window_tick\": (5)\n",
    "}\n",
    "parameters_max={\n",
    "    \"risk_aversion\": (0.9),\n",
    "    \"k_default\": (0.01),\n",
    "    \"window_tick\": (25)\n",
    "}\n",
    "\n",
    "\n",
    "algorithm_info='q_as_notebook'\n",
    "algorithm = AvellanedaQ(algorithm_info=algorithm_info,parameters=parameters_default)"
   ]
  },
  {
   "cell_type": "markdown",
   "metadata": {},
   "source": [
    "## Backtest"
   ]
  },
  {
   "cell_type": "code",
   "execution_count": 4,
   "metadata": {
    "pycharm": {
     "name": "#%%\n"
    }
   },
   "outputs": [],
   "source": [
    "instrument_pk='btcusdt_binance'\n",
    "\n",
    "start_date_pt=datetime.datetime(year=2020, day=8, month=12)\n",
    "end_date_pt=datetime.datetime(year=2020, day=8, month=12)\n",
    "\n",
    "start_date_train=end_date_pt+datetime.timedelta(days=1)\n",
    "end_date_train=start_date_train\n",
    "\n",
    "start_date_test=start_date_train+datetime.timedelta(days=1)\n",
    "end_date_test=start_date_test"
   ]
  },
  {
   "cell_type": "markdown",
   "metadata": {},
   "source": [
    "## Genetic algorithm configuration"
   ]
  },
  {
   "cell_type": "code",
   "execution_count": 5,
   "metadata": {},
   "outputs": [],
   "source": [
    "ga_configuration = GAConfiguration\n",
    "ga_configuration.population = 15\n",
    "ga_configuration_generations=3\n",
    "ga_configuration_simultaneous=2\n",
    "\n",
    "ga_configuration.decay=1/float(ga_configuration_generations)"
   ]
  },
  {
   "cell_type": "markdown",
   "metadata": {},
   "source": [
    "# Parameter tuning"
   ]
  },
  {
   "cell_type": "code",
   "execution_count": null,
   "metadata": {
    "pycharm": {
     "name": "#%%\n"
    }
   },
   "outputs": [
    {
     "name": "stdout",
     "output_type": "stream",
     "text": [
      "launching AvellanedaQ_ga_0\n",
      "launching AvellanedaQ_ga_1\n",
      "pwd=D:\\javif\\Coding\\cryptotradingdesk\\python_lambda\\notebooks\n",
      "pwd=D:\\javif\\Coding\\cryptotradingdesk\\python_lambda\\notebooks\n"
     ]
    }
   ],
   "source": [
    "best_param_dict, summary_df =algorithm.parameter_tuning(\n",
    "    instrument_pk=instrument_pk,\n",
    "    start_date=start_date_pt,\n",
    "    end_date=end_date_pt,\n",
    "    parameters_min=parameters_min,\n",
    "    parameters_max=parameters_max,\n",
    "    generations=ga_configuration_generations,\n",
    "    ga_configuration=ga_configuration,\n",
    "\tmax_simultaneous=ga_configuration_simultaneous\n",
    ")"
   ]
  },
  {
   "cell_type": "code",
   "execution_count": null,
   "metadata": {},
   "outputs": [],
   "source": [
    "summary_df"
   ]
  },
  {
   "cell_type": "code",
   "execution_count": null,
   "metadata": {},
   "outputs": [],
   "source": [
    "best_by_generation=summary_df.groupby('generation').max('score')\n",
    "best_by_generation['score'].plot()\n"
   ]
  },
  {
   "cell_type": "code",
   "execution_count": null,
   "metadata": {},
   "outputs": [],
   "source": [
    "best_param_dict"
   ]
  },
  {
   "cell_type": "markdown",
   "metadata": {},
   "source": [
    "# Train"
   ]
  },
  {
   "cell_type": "code",
   "execution_count": null,
   "metadata": {
    "pycharm": {
     "name": "#%% set best params found to algorithm\n"
    }
   },
   "outputs": [],
   "source": [
    "algorithm.parameters = best_param_dict\n",
    "algorithm.algorithm_info=algorithm_info"
   ]
  },
  {
   "cell_type": "code",
   "execution_count": null,
   "metadata": {
    "pycharm": {
     "name": "#%%\n"
    }
   },
   "outputs": [],
   "source": [
    "iterations_train=ga_configuration_generations\n",
    "algos_per_iteration=ga_configuration.population\n",
    "train_simultaneous=ga_configuration_simultaneous\n",
    "\n",
    "output_train=algorithm.train(\n",
    "        instrument_pk=instrument_pk,\n",
    "        start_date=start_date_train,\n",
    "        end_date=end_date_train,\n",
    "        iterations=iterations_train,\n",
    "        algos_per_iteration=algos_per_iteration,\n",
    "        simultaneous_algos=train_simultaneous,\n",
    "    )"
   ]
  },
  {
   "cell_type": "code",
   "execution_count": null,
   "metadata": {},
   "outputs": [],
   "source": [
    "output_pnl=[]\n",
    "legends=[]\n",
    "for iteration in output_train:\n",
    "\tbest_algorithm=None\n",
    "\tbest_pnl=-99999\n",
    "\tfor algorithm_name in iteration.keys():\n",
    "\t\tpnl=iteration[algorithm_name]['historicalTotalPnl'].iloc[-1]\n",
    "\t\tif pnl>best_pnl:\n",
    "\t\t\tbest_pnl=pnl\n",
    "\t\t\tbest_algorithm=algorithm_name\n",
    "\tlegends.append('iteration %d'%len(output_pnl))\n",
    "\toutput_pnl.append(best_pnl)\n",
    "\t\n",
    "\t\n",
    "\tplt.subplot(211)\n",
    "\tplt.title('pnl all')\n",
    "\titeration[best_algorithm]['historicalTotalPnl'].plot()\n",
    "\tplt.legend(legends)\n",
    "\t\n",
    "\tplt.subplot(212)\n",
    "\tplt.title('pnl evolution')\n",
    "\tpd.Series(output_pnl).plot()\n",
    "\tplt.tight_layout()"
   ]
  },
  {
   "cell_type": "code",
   "execution_count": null,
   "metadata": {},
   "outputs": [],
   "source": []
  },
  {
   "cell_type": "code",
   "execution_count": null,
   "metadata": {
    "pycharm": {
     "name": "#%%\n"
    }
   },
   "outputs": [],
   "source": []
  },
  {
   "cell_type": "markdown",
   "metadata": {
    "pycharm": {
     "name": "#%% md\n"
    }
   },
   "source": [
    "# Test"
   ]
  },
  {
   "cell_type": "code",
   "execution_count": null,
   "metadata": {
    "pycharm": {
     "name": "#%%\n"
    }
   },
   "outputs": [],
   "source": [
    "output_test = algorithm.test(\n",
    "        instrument_pk=instrument_pk,\n",
    "        start_date=start_date_test,\n",
    "        end_date=end_date_test,\n",
    "    )\n"
   ]
  },
  {
   "cell_type": "code",
   "execution_count": null,
   "metadata": {},
   "outputs": [],
   "source": []
  },
  {
   "cell_type": "code",
   "execution_count": null,
   "metadata": {},
   "outputs": [],
   "source": [
    "name_output=algorithm_info\n",
    "backtest_result_test=output_test[name_output]\n",
    "backtest_result_test.tail()"
   ]
  },
  {
   "cell_type": "code",
   "execution_count": null,
   "metadata": {},
   "outputs": [],
   "source": [
    "backtest_result_test['historicalTotalPnl'].plot()\n",
    "plt.title('backtest test')"
   ]
  },
  {
   "cell_type": "code",
   "execution_count": null,
   "metadata": {},
   "outputs": [],
   "source": [
    "save_notebook_session(session_name)"
   ]
  }
 ],
 "metadata": {
  "kernelspec": {
   "display_name": "PyCharm (python_lambda)",
   "language": "python",
   "name": "pycharm-c14e6b7b"
  },
  "language_info": {
   "codemirror_mode": {
    "name": "ipython",
    "version": 3
   },
   "file_extension": ".py",
   "mimetype": "text/x-python",
   "name": "python",
   "nbconvert_exporter": "python",
   "pygments_lexer": "ipython3",
   "version": "3.6.11"
  },
  "pycharm": {
   "stem_cell": {
    "cell_type": "raw",
    "metadata": {
     "collapsed": false
    },
    "source": []
   }
  }
 },
 "nbformat": 4,
 "nbformat_minor": 2
}
